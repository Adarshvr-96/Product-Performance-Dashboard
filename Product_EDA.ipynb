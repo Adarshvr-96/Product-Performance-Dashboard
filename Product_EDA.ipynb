{
 "cells": [
  {
   "cell_type": "code",
   "execution_count": 1,
   "id": "150d754d-7df1-4119-87e4-2ab8644e7688",
   "metadata": {},
   "outputs": [],
   "source": [
    "import pandas as pd\n",
    "import matplotlib.pyplot as plt\n",
    "import numpy as np"
   ]
  },
  {
   "cell_type": "code",
   "execution_count": 3,
   "id": "564b2d20-69cf-48dd-a70e-e63e43418c33",
   "metadata": {},
   "outputs": [],
   "source": [
    "\n",
    "df = pd.read_csv(r\"C:\\Users\\adars\\Downloads\\shopping_behavior_updated.csv\")"
   ]
  },
  {
   "cell_type": "code",
   "execution_count": 5,
   "id": "940d7bf4-4ca0-43a2-a2f9-0c980977d972",
   "metadata": {},
   "outputs": [
    {
     "data": {
      "text/html": [
       "<div>\n",
       "<style scoped>\n",
       "    .dataframe tbody tr th:only-of-type {\n",
       "        vertical-align: middle;\n",
       "    }\n",
       "\n",
       "    .dataframe tbody tr th {\n",
       "        vertical-align: top;\n",
       "    }\n",
       "\n",
       "    .dataframe thead th {\n",
       "        text-align: right;\n",
       "    }\n",
       "</style>\n",
       "<table border=\"1\" class=\"dataframe\">\n",
       "  <thead>\n",
       "    <tr style=\"text-align: right;\">\n",
       "      <th></th>\n",
       "      <th>Customer ID</th>\n",
       "      <th>Age</th>\n",
       "      <th>Gender</th>\n",
       "      <th>Item Purchased</th>\n",
       "      <th>Category</th>\n",
       "      <th>Purchase Amount (USD)</th>\n",
       "      <th>Location</th>\n",
       "      <th>Size</th>\n",
       "      <th>Color</th>\n",
       "      <th>Season</th>\n",
       "      <th>Review Rating</th>\n",
       "      <th>Subscription Status</th>\n",
       "      <th>Shipping Type</th>\n",
       "      <th>Discount Applied</th>\n",
       "      <th>Promo Code Used</th>\n",
       "      <th>Previous Purchases</th>\n",
       "      <th>Payment Method</th>\n",
       "      <th>Frequency of Purchases</th>\n",
       "    </tr>\n",
       "  </thead>\n",
       "  <tbody>\n",
       "    <tr>\n",
       "      <th>0</th>\n",
       "      <td>1</td>\n",
       "      <td>55</td>\n",
       "      <td>Male</td>\n",
       "      <td>Blouse</td>\n",
       "      <td>Clothing</td>\n",
       "      <td>53</td>\n",
       "      <td>Kentucky</td>\n",
       "      <td>L</td>\n",
       "      <td>Gray</td>\n",
       "      <td>Winter</td>\n",
       "      <td>3.1</td>\n",
       "      <td>Yes</td>\n",
       "      <td>Express</td>\n",
       "      <td>Yes</td>\n",
       "      <td>Yes</td>\n",
       "      <td>14</td>\n",
       "      <td>Venmo</td>\n",
       "      <td>Fortnightly</td>\n",
       "    </tr>\n",
       "    <tr>\n",
       "      <th>1</th>\n",
       "      <td>2</td>\n",
       "      <td>19</td>\n",
       "      <td>Male</td>\n",
       "      <td>Sweater</td>\n",
       "      <td>Clothing</td>\n",
       "      <td>64</td>\n",
       "      <td>Maine</td>\n",
       "      <td>L</td>\n",
       "      <td>Maroon</td>\n",
       "      <td>Winter</td>\n",
       "      <td>3.1</td>\n",
       "      <td>Yes</td>\n",
       "      <td>Express</td>\n",
       "      <td>Yes</td>\n",
       "      <td>Yes</td>\n",
       "      <td>2</td>\n",
       "      <td>Cash</td>\n",
       "      <td>Fortnightly</td>\n",
       "    </tr>\n",
       "    <tr>\n",
       "      <th>2</th>\n",
       "      <td>3</td>\n",
       "      <td>50</td>\n",
       "      <td>Male</td>\n",
       "      <td>Jeans</td>\n",
       "      <td>Clothing</td>\n",
       "      <td>73</td>\n",
       "      <td>Massachusetts</td>\n",
       "      <td>S</td>\n",
       "      <td>Maroon</td>\n",
       "      <td>Spring</td>\n",
       "      <td>3.1</td>\n",
       "      <td>Yes</td>\n",
       "      <td>Free Shipping</td>\n",
       "      <td>Yes</td>\n",
       "      <td>Yes</td>\n",
       "      <td>23</td>\n",
       "      <td>Credit Card</td>\n",
       "      <td>Weekly</td>\n",
       "    </tr>\n",
       "    <tr>\n",
       "      <th>3</th>\n",
       "      <td>4</td>\n",
       "      <td>21</td>\n",
       "      <td>Male</td>\n",
       "      <td>Sandals</td>\n",
       "      <td>Footwear</td>\n",
       "      <td>90</td>\n",
       "      <td>Rhode Island</td>\n",
       "      <td>M</td>\n",
       "      <td>Maroon</td>\n",
       "      <td>Spring</td>\n",
       "      <td>3.5</td>\n",
       "      <td>Yes</td>\n",
       "      <td>Next Day Air</td>\n",
       "      <td>Yes</td>\n",
       "      <td>Yes</td>\n",
       "      <td>49</td>\n",
       "      <td>PayPal</td>\n",
       "      <td>Weekly</td>\n",
       "    </tr>\n",
       "    <tr>\n",
       "      <th>4</th>\n",
       "      <td>5</td>\n",
       "      <td>45</td>\n",
       "      <td>Male</td>\n",
       "      <td>Blouse</td>\n",
       "      <td>Clothing</td>\n",
       "      <td>49</td>\n",
       "      <td>Oregon</td>\n",
       "      <td>M</td>\n",
       "      <td>Turquoise</td>\n",
       "      <td>Spring</td>\n",
       "      <td>2.7</td>\n",
       "      <td>Yes</td>\n",
       "      <td>Free Shipping</td>\n",
       "      <td>Yes</td>\n",
       "      <td>Yes</td>\n",
       "      <td>31</td>\n",
       "      <td>PayPal</td>\n",
       "      <td>Annually</td>\n",
       "    </tr>\n",
       "  </tbody>\n",
       "</table>\n",
       "</div>"
      ],
      "text/plain": [
       "   Customer ID  Age Gender Item Purchased  Category  Purchase Amount (USD)  \\\n",
       "0            1   55   Male         Blouse  Clothing                     53   \n",
       "1            2   19   Male        Sweater  Clothing                     64   \n",
       "2            3   50   Male          Jeans  Clothing                     73   \n",
       "3            4   21   Male        Sandals  Footwear                     90   \n",
       "4            5   45   Male         Blouse  Clothing                     49   \n",
       "\n",
       "        Location Size      Color  Season  Review Rating Subscription Status  \\\n",
       "0       Kentucky    L       Gray  Winter            3.1                 Yes   \n",
       "1          Maine    L     Maroon  Winter            3.1                 Yes   \n",
       "2  Massachusetts    S     Maroon  Spring            3.1                 Yes   \n",
       "3   Rhode Island    M     Maroon  Spring            3.5                 Yes   \n",
       "4         Oregon    M  Turquoise  Spring            2.7                 Yes   \n",
       "\n",
       "   Shipping Type Discount Applied Promo Code Used  Previous Purchases  \\\n",
       "0        Express              Yes             Yes                  14   \n",
       "1        Express              Yes             Yes                   2   \n",
       "2  Free Shipping              Yes             Yes                  23   \n",
       "3   Next Day Air              Yes             Yes                  49   \n",
       "4  Free Shipping              Yes             Yes                  31   \n",
       "\n",
       "  Payment Method Frequency of Purchases  \n",
       "0          Venmo            Fortnightly  \n",
       "1           Cash            Fortnightly  \n",
       "2    Credit Card                 Weekly  \n",
       "3         PayPal                 Weekly  \n",
       "4         PayPal               Annually  "
      ]
     },
     "execution_count": 5,
     "metadata": {},
     "output_type": "execute_result"
    }
   ],
   "source": [
    "df.head(5)"
   ]
  },
  {
   "cell_type": "code",
   "execution_count": 7,
   "id": "908c94f5-435e-48f8-ab32-f5340bd4cb7f",
   "metadata": {},
   "outputs": [
    {
     "data": {
      "text/plain": [
       "Index(['Customer ID', 'Age', 'Gender', 'Item Purchased', 'Category',\n",
       "       'Purchase Amount (USD)', 'Location', 'Size', 'Color', 'Season',\n",
       "       'Review Rating', 'Subscription Status', 'Shipping Type',\n",
       "       'Discount Applied', 'Promo Code Used', 'Previous Purchases',\n",
       "       'Payment Method', 'Frequency of Purchases'],\n",
       "      dtype='object')"
      ]
     },
     "execution_count": 7,
     "metadata": {},
     "output_type": "execute_result"
    }
   ],
   "source": [
    "df.columns"
   ]
  },
  {
   "cell_type": "code",
   "execution_count": null,
   "id": "7972ecc7-98d1-4b73-abe0-f017e8b53902",
   "metadata": {},
   "outputs": [],
   "source": []
  },
  {
   "cell_type": "code",
   "execution_count": null,
   "id": "ad51b224-2fc3-4889-b6e2-3436241449eb",
   "metadata": {},
   "outputs": [],
   "source": []
  },
  {
   "cell_type": "code",
   "execution_count": null,
   "id": "ae8bc7a0-d34c-4c65-89fe-516f5a1a8082",
   "metadata": {},
   "outputs": [],
   "source": []
  },
  {
   "cell_type": "code",
   "execution_count": 8,
   "id": "84e5d53c-3baf-4640-a232-591ef17f2fdb",
   "metadata": {},
   "outputs": [
    {
     "data": {
      "text/plain": [
       "(3900, 18)"
      ]
     },
     "execution_count": 8,
     "metadata": {},
     "output_type": "execute_result"
    }
   ],
   "source": [
    "df.shape"
   ]
  },
  {
   "cell_type": "code",
   "execution_count": 9,
   "id": "8dd16985-b072-4c3b-8d0c-8261a7efecad",
   "metadata": {},
   "outputs": [
    {
     "name": "stdout",
     "output_type": "stream",
     "text": [
      "<class 'pandas.core.frame.DataFrame'>\n",
      "RangeIndex: 3900 entries, 0 to 3899\n",
      "Data columns (total 18 columns):\n",
      " #   Column                  Non-Null Count  Dtype  \n",
      "---  ------                  --------------  -----  \n",
      " 0   Customer ID             3900 non-null   int64  \n",
      " 1   Age                     3900 non-null   int64  \n",
      " 2   Gender                  3900 non-null   object \n",
      " 3   Item Purchased          3900 non-null   object \n",
      " 4   Category                3900 non-null   object \n",
      " 5   Purchase Amount (USD)   3900 non-null   int64  \n",
      " 6   Location                3900 non-null   object \n",
      " 7   Size                    3900 non-null   object \n",
      " 8   Color                   3900 non-null   object \n",
      " 9   Season                  3900 non-null   object \n",
      " 10  Review Rating           3900 non-null   float64\n",
      " 11  Subscription Status     3900 non-null   object \n",
      " 12  Shipping Type           3900 non-null   object \n",
      " 13  Discount Applied        3900 non-null   object \n",
      " 14  Promo Code Used         3900 non-null   object \n",
      " 15  Previous Purchases      3900 non-null   int64  \n",
      " 16  Payment Method          3900 non-null   object \n",
      " 17  Frequency of Purchases  3900 non-null   object \n",
      "dtypes: float64(1), int64(4), object(13)\n",
      "memory usage: 548.6+ KB\n"
     ]
    }
   ],
   "source": [
    "df.info()"
   ]
  },
  {
   "cell_type": "code",
   "execution_count": 13,
   "id": "4817e1a1-7904-4db6-8bd5-711e4fa78579",
   "metadata": {},
   "outputs": [
    {
     "data": {
      "text/plain": [
       "Customer ID               0\n",
       "Age                       0\n",
       "Gender                    0\n",
       "Item Purchased            0\n",
       "Category                  0\n",
       "Purchase Amount (USD)     0\n",
       "Location                  0\n",
       "Size                      0\n",
       "Color                     0\n",
       "Season                    0\n",
       "Review Rating             0\n",
       "Subscription Status       0\n",
       "Shipping Type             0\n",
       "Discount Applied          0\n",
       "Promo Code Used           0\n",
       "Previous Purchases        0\n",
       "Payment Method            0\n",
       "Frequency of Purchases    0\n",
       "dtype: int64"
      ]
     },
     "execution_count": 13,
     "metadata": {},
     "output_type": "execute_result"
    }
   ],
   "source": [
    "df.isnull().sum()"
   ]
  },
  {
   "cell_type": "code",
   "execution_count": 17,
   "id": "e04d2754-ab28-41f6-a91b-51a6cea0ef72",
   "metadata": {},
   "outputs": [
    {
     "data": {
      "text/html": [
       "<div>\n",
       "<style scoped>\n",
       "    .dataframe tbody tr th:only-of-type {\n",
       "        vertical-align: middle;\n",
       "    }\n",
       "\n",
       "    .dataframe tbody tr th {\n",
       "        vertical-align: top;\n",
       "    }\n",
       "\n",
       "    .dataframe thead th {\n",
       "        text-align: right;\n",
       "    }\n",
       "</style>\n",
       "<table border=\"1\" class=\"dataframe\">\n",
       "  <thead>\n",
       "    <tr style=\"text-align: right;\">\n",
       "      <th></th>\n",
       "      <th>Customer ID</th>\n",
       "      <th>Age</th>\n",
       "      <th>Purchase Amount (USD)</th>\n",
       "      <th>Review Rating</th>\n",
       "      <th>Previous Purchases</th>\n",
       "    </tr>\n",
       "  </thead>\n",
       "  <tbody>\n",
       "    <tr>\n",
       "      <th>count</th>\n",
       "      <td>3900.000000</td>\n",
       "      <td>3900.000000</td>\n",
       "      <td>3900.000000</td>\n",
       "      <td>3900.000000</td>\n",
       "      <td>3900.000000</td>\n",
       "    </tr>\n",
       "    <tr>\n",
       "      <th>mean</th>\n",
       "      <td>1950.500000</td>\n",
       "      <td>44.068462</td>\n",
       "      <td>59.764359</td>\n",
       "      <td>3.749949</td>\n",
       "      <td>25.351538</td>\n",
       "    </tr>\n",
       "    <tr>\n",
       "      <th>std</th>\n",
       "      <td>1125.977353</td>\n",
       "      <td>15.207589</td>\n",
       "      <td>23.685392</td>\n",
       "      <td>0.716223</td>\n",
       "      <td>14.447125</td>\n",
       "    </tr>\n",
       "    <tr>\n",
       "      <th>min</th>\n",
       "      <td>1.000000</td>\n",
       "      <td>18.000000</td>\n",
       "      <td>20.000000</td>\n",
       "      <td>2.500000</td>\n",
       "      <td>1.000000</td>\n",
       "    </tr>\n",
       "    <tr>\n",
       "      <th>25%</th>\n",
       "      <td>975.750000</td>\n",
       "      <td>31.000000</td>\n",
       "      <td>39.000000</td>\n",
       "      <td>3.100000</td>\n",
       "      <td>13.000000</td>\n",
       "    </tr>\n",
       "    <tr>\n",
       "      <th>50%</th>\n",
       "      <td>1950.500000</td>\n",
       "      <td>44.000000</td>\n",
       "      <td>60.000000</td>\n",
       "      <td>3.700000</td>\n",
       "      <td>25.000000</td>\n",
       "    </tr>\n",
       "    <tr>\n",
       "      <th>75%</th>\n",
       "      <td>2925.250000</td>\n",
       "      <td>57.000000</td>\n",
       "      <td>81.000000</td>\n",
       "      <td>4.400000</td>\n",
       "      <td>38.000000</td>\n",
       "    </tr>\n",
       "    <tr>\n",
       "      <th>max</th>\n",
       "      <td>3900.000000</td>\n",
       "      <td>70.000000</td>\n",
       "      <td>100.000000</td>\n",
       "      <td>5.000000</td>\n",
       "      <td>50.000000</td>\n",
       "    </tr>\n",
       "  </tbody>\n",
       "</table>\n",
       "</div>"
      ],
      "text/plain": [
       "       Customer ID          Age  Purchase Amount (USD)  Review Rating  \\\n",
       "count  3900.000000  3900.000000            3900.000000    3900.000000   \n",
       "mean   1950.500000    44.068462              59.764359       3.749949   \n",
       "std    1125.977353    15.207589              23.685392       0.716223   \n",
       "min       1.000000    18.000000              20.000000       2.500000   \n",
       "25%     975.750000    31.000000              39.000000       3.100000   \n",
       "50%    1950.500000    44.000000              60.000000       3.700000   \n",
       "75%    2925.250000    57.000000              81.000000       4.400000   \n",
       "max    3900.000000    70.000000             100.000000       5.000000   \n",
       "\n",
       "       Previous Purchases  \n",
       "count         3900.000000  \n",
       "mean            25.351538  \n",
       "std             14.447125  \n",
       "min              1.000000  \n",
       "25%             13.000000  \n",
       "50%             25.000000  \n",
       "75%             38.000000  \n",
       "max             50.000000  "
      ]
     },
     "execution_count": 17,
     "metadata": {},
     "output_type": "execute_result"
    }
   ],
   "source": [
    "df.describe()"
   ]
  },
  {
   "cell_type": "code",
   "execution_count": 20,
   "id": "9d083b68-9058-447f-bdd1-2166db1e53ae",
   "metadata": {},
   "outputs": [
    {
     "data": {
      "text/plain": [
       "Category\n",
       "Clothing       1737\n",
       "Accessories    1240\n",
       "Footwear        599\n",
       "Outerwear       324\n",
       "Name: count, dtype: int64"
      ]
     },
     "execution_count": 20,
     "metadata": {},
     "output_type": "execute_result"
    }
   ],
   "source": [
    "df['Category'].value_counts()"
   ]
  },
  {
   "cell_type": "code",
   "execution_count": null,
   "id": "7b35610e-ff6a-40ac-a7a4-df0421407e47",
   "metadata": {},
   "outputs": [],
   "source": []
  },
  {
   "cell_type": "code",
   "execution_count": null,
   "id": "c5ea1d88-9d7e-439e-8846-43ad2d1df8b1",
   "metadata": {},
   "outputs": [],
   "source": []
  },
  {
   "cell_type": "code",
   "execution_count": null,
   "id": "0bd8a2e4-7a57-4491-8a9d-fa19bc0acb3c",
   "metadata": {},
   "outputs": [],
   "source": [
    "df['Gender'] = df['Gender'].replace({'M': 'Male', 'F': 'Female'})"
   ]
  },
  {
   "cell_type": "code",
   "execution_count": null,
   "id": "b9a9c5dd-d041-4d05-978e-6233e0950d9a",
   "metadata": {},
   "outputs": [],
   "source": [
    "df['Purchase Amount (USD)'].value_counts().sum()"
   ]
  },
  {
   "cell_type": "code",
   "execution_count": null,
   "id": "1a46145c-1137-4a9e-b5d4-e7aefe42f1c9",
   "metadata": {},
   "outputs": [],
   "source": []
  },
  {
   "cell_type": "code",
   "execution_count": null,
   "id": "c7c145a5-62c8-4119-8af8-d64a8c26ea80",
   "metadata": {},
   "outputs": [],
   "source": [
    "df['Age'].value_counts().max()"
   ]
  },
  {
   "cell_type": "code",
   "execution_count": null,
   "id": "61920bb4-e801-4f26-96cf-e499473c4733",
   "metadata": {},
   "outputs": [],
   "source": [
    "df['Age'].value_counts().min()"
   ]
  },
  {
   "cell_type": "code",
   "execution_count": null,
   "id": "b256f929-03d5-4ceb-9b1e-1a9f59bf98f4",
   "metadata": {},
   "outputs": [],
   "source": []
  },
  {
   "cell_type": "code",
   "execution_count": null,
   "id": "408f95f4-a795-4583-80f1-a764dcef1fe0",
   "metadata": {},
   "outputs": [],
   "source": [
    "sns.histplot(df['Purchase Amount (USD)'])\n"
   ]
  },
  {
   "cell_type": "code",
   "execution_count": null,
   "id": "2bfc5f3e-e377-4c2b-97c2-3623281d5a3f",
   "metadata": {},
   "outputs": [],
   "source": [
    "sns.countplot(x='Category', data=df)\n"
   ]
  },
  {
   "cell_type": "code",
   "execution_count": null,
   "id": "5622b8d0-32d4-475c-a8b6-b9f443e3b4d3",
   "metadata": {},
   "outputs": [],
   "source": []
  },
  {
   "cell_type": "code",
   "execution_count": null,
   "id": "d7ec6955-f3ee-4735-9420-ef169c0b4438",
   "metadata": {},
   "outputs": [],
   "source": [
    "df[df['Category'] == 'Outerwear']['Item Purchased'].unique()"
   ]
  },
  {
   "cell_type": "code",
   "execution_count": null,
   "id": "94a00937-546b-43b5-9280-ca9bd493daca",
   "metadata": {},
   "outputs": [],
   "source": [
    "category_items = df.groupby('Category')['Item Purchased'].unique()\n",
    "print(category_items)"
   ]
  },
  {
   "cell_type": "code",
   "execution_count": null,
   "id": "19d801cb-2f76-4e0b-b283-26114401d2e9",
   "metadata": {},
   "outputs": [],
   "source": [
    "list(category_items.loc['Outerwear'])"
   ]
  },
  {
   "cell_type": "code",
   "execution_count": null,
   "id": "25b02ff3-0dbd-43bf-925f-22e7cc16e4cd",
   "metadata": {},
   "outputs": [],
   "source": [
    "category_items.loc['Clothing']"
   ]
  },
  {
   "cell_type": "code",
   "execution_count": null,
   "id": "e5879ff3-0055-46cb-9c85-cf97fa68911e",
   "metadata": {},
   "outputs": [],
   "source": [
    "df[df['Item Purchased']== 'Jeans']['Purchase Amount (USD)'].sum()"
   ]
  },
  {
   "cell_type": "code",
   "execution_count": null,
   "id": "268c2510-2442-4137-a212-6e64c5e392d7",
   "metadata": {},
   "outputs": [],
   "source": [
    "item_totals = df.groupby('Item Purchased')['Purchase Amount (USD)'].sum()\n",
    "\n",
    "# Get total for Laptop\n",
    "item_totals.loc['Jeans']\n"
   ]
  },
  {
   "cell_type": "code",
   "execution_count": null,
   "id": "40857dff-b8d7-464e-8d31-cb4bf1f56dab",
   "metadata": {},
   "outputs": [],
   "source": [
    "df['Item Purchased'].value_counts().loc['Jeans']"
   ]
  },
  {
   "cell_type": "code",
   "execution_count": null,
   "id": "ff0f8f06-d7a1-4a58-b3f1-af89a8fd492b",
   "metadata": {},
   "outputs": [],
   "source": [
    "df[df['Item Purchased'] == 'Jeans'].shape[0]"
   ]
  },
  {
   "cell_type": "code",
   "execution_count": null,
   "id": "00c6dd07-30e7-45a6-98de-f7cbc93813ea",
   "metadata": {},
   "outputs": [],
   "source": [
    "item_totals.loc['Sweater']"
   ]
  },
  {
   "cell_type": "code",
   "execution_count": null,
   "id": "6bec9c2b-c80c-45bf-a9b7-25313e9d59b6",
   "metadata": {},
   "outputs": [],
   "source": [
    "df['Item Purchased'].value_counts().loc['Sweater']"
   ]
  },
  {
   "cell_type": "code",
   "execution_count": 23,
   "id": "264e67cf-dea6-4293-a713-83fef5cac01a",
   "metadata": {},
   "outputs": [
    {
     "data": {
      "text/plain": [
       "1737"
      ]
     },
     "execution_count": 23,
     "metadata": {},
     "output_type": "execute_result"
    }
   ],
   "source": [
    "df[df['Category'] == 'Clothing'].value_counts().sum()"
   ]
  },
  {
   "cell_type": "code",
   "execution_count": 24,
   "id": "b50b2029-2482-4132-8230-064c8cdd241a",
   "metadata": {},
   "outputs": [
    {
     "data": {
      "text/plain": [
       "104264"
      ]
     },
     "execution_count": 24,
     "metadata": {},
     "output_type": "execute_result"
    }
   ],
   "source": [
    "df[df['Category'] == 'Clothing']['Purchase Amount (USD)'].sum()"
   ]
  },
  {
   "cell_type": "code",
   "execution_count": 9,
   "id": "17000f03-8e8c-4286-a961-60f14e715f4e",
   "metadata": {},
   "outputs": [],
   "source": [
    "category_total = df.groupby('Category')['Purchase Amount (USD)'].count()"
   ]
  },
  {
   "cell_type": "code",
   "execution_count": 11,
   "id": "7b20877c-0b58-406a-b71d-68d64a6b70d5",
   "metadata": {},
   "outputs": [
    {
     "data": {
      "text/plain": [
       "324"
      ]
     },
     "execution_count": 11,
     "metadata": {},
     "output_type": "execute_result"
    }
   ],
   "source": [
    "category_total.loc['Outerwear']"
   ]
  },
  {
   "cell_type": "code",
   "execution_count": 27,
   "id": "565124ae-45e6-4752-91e3-5092aaa4adca",
   "metadata": {},
   "outputs": [
    {
     "data": {
      "text/plain": [
       "104264"
      ]
     },
     "execution_count": 27,
     "metadata": {},
     "output_type": "execute_result"
    }
   ],
   "source": [
    "category_total.loc['Clothing']"
   ]
  },
  {
   "cell_type": "code",
   "execution_count": null,
   "id": "79b7affc-a90e-4a00-a719-81b7637472d4",
   "metadata": {},
   "outputs": [],
   "source": []
  },
  {
   "cell_type": "code",
   "execution_count": 31,
   "id": "279343b4-76ef-4b06-a30b-eb8c9c583ebf",
   "metadata": {},
   "outputs": [
    {
     "data": {
      "text/html": [
       "<div>\n",
       "<style scoped>\n",
       "    .dataframe tbody tr th:only-of-type {\n",
       "        vertical-align: middle;\n",
       "    }\n",
       "\n",
       "    .dataframe tbody tr th {\n",
       "        vertical-align: top;\n",
       "    }\n",
       "\n",
       "    .dataframe thead th {\n",
       "        text-align: right;\n",
       "    }\n",
       "</style>\n",
       "<table border=\"1\" class=\"dataframe\">\n",
       "  <thead>\n",
       "    <tr style=\"text-align: right;\">\n",
       "      <th></th>\n",
       "      <th>Purchase Amount (USD)</th>\n",
       "    </tr>\n",
       "  </thead>\n",
       "  <tbody>\n",
       "    <tr>\n",
       "      <th>count</th>\n",
       "      <td>171.000000</td>\n",
       "    </tr>\n",
       "    <tr>\n",
       "      <th>mean</th>\n",
       "      <td>60.877193</td>\n",
       "    </tr>\n",
       "    <tr>\n",
       "      <th>sum</th>\n",
       "      <td>10410.000000</td>\n",
       "    </tr>\n",
       "  </tbody>\n",
       "</table>\n",
       "</div>"
      ],
      "text/plain": [
       "       Purchase Amount (USD)\n",
       "count             171.000000\n",
       "mean               60.877193\n",
       "sum             10410.000000"
      ]
     },
     "execution_count": 31,
     "metadata": {},
     "output_type": "execute_result"
    }
   ],
   "source": [
    "df[df['Item Purchased'] == 'Blouse'].agg({'Purchase Amount (USD)': ['count', 'mean', 'sum']})"
   ]
  },
  {
   "cell_type": "code",
   "execution_count": null,
   "id": "38032bec-3723-4b76-9f5c-170e6f927619",
   "metadata": {},
   "outputs": [],
   "source": []
  },
  {
   "cell_type": "code",
   "execution_count": null,
   "id": "5f1f8445-a92b-4a3f-aecc-d98be2b2b6a7",
   "metadata": {},
   "outputs": [],
   "source": []
  },
  {
   "cell_type": "code",
   "execution_count": 56,
   "id": "c68bb14e-a27a-4870-8f6a-2318e1afa371",
   "metadata": {},
   "outputs": [
    {
     "data": {
      "image/png": "[encoded data removed]",
      "text/plain": [
       "<Figure size 640x480 with 1 Axes>"
      ]
     },
     "metadata": {},
     "output_type": "display_data"
    },
    {
     "data": {
      "text/plain": [
       "<Figure size 1000x600 with 0 Axes>"
      ]
     },
     "metadata": {},
     "output_type": "display_data"
    }
   ],
   "source": [
    "\n",
    "category_avg = df.groupby('Category')['Purchase Amount (USD)'].mean().reset_index()\n",
    "\n",
    "sns.barplot(x='Category', y='Purchase Amount (USD)', data=category_avg)\n",
    "plt.xticks(rotation=45)\n",
    "plt.title(\"Average Purchase Amount by Category\")\n",
    "plt.figure(figsize=(10,6))\n",
    "plt.show()\n"
   ]
  },
  {
   "cell_type": "code",
   "execution_count": 54,
   "id": "48ad7820-57b3-4e27-99b7-70b88e11b827",
   "metadata": {},
   "outputs": [
    {
     "data": {
      "text/plain": [
       "Category\n",
       "Accessories    59.838710\n",
       "Clothing       60.025331\n",
       "Footwear       60.255426\n",
       "Outerwear      57.172840\n",
       "Name: Purchase Amount (USD), dtype: float64"
      ]
     },
     "execution_count": 54,
     "metadata": {},
     "output_type": "execute_result"
    }
   ],
   "source": [
    "category_avg = df.groupby('Category')['Purchase Amount (USD)'].mean()\n",
    "category_avg"
   ]
  },
  {
   "cell_type": "code",
   "execution_count": null,
   "id": "698e80bd-03a7-41b7-be5c-6e1b59401e4d",
   "metadata": {},
   "outputs": [],
   "source": []
  },
  {
   "cell_type": "code",
   "execution_count": 52,
   "id": "bc052f4b-894e-4092-b217-39822022b306",
   "metadata": {},
   "outputs": [
    {
     "name": "stderr",
     "output_type": "stream",
     "text": [
      "C:\\Users\\adars\\AppData\\Local\\Temp\\ipykernel_9224\\556473338.py:2: FutureWarning: \n",
      "\n",
      "Passing `palette` without assigning `hue` is deprecated and will be removed in v0.14.0. Assign the `x` variable to `hue` and set `legend=False` for the same effect.\n",
      "\n",
      "  sns.boxplot(x='Season', y='Purchase Amount (USD)', data=df, palette= 'rocket', showmeans=True)\n"
     ]
    },
    {
     "data": {
      "image/png": "[encoded data removed]",
      "text/plain": [
       "<Figure size 1000x600 with 1 Axes>"
      ]
     },
     "metadata": {},
     "output_type": "display_data"
    }
   ],
   "source": [
    "plt.figure(figsize=(10,6))\n",
    "sns.boxplot(x='Season', y='Purchase Amount (USD)', data=df, palette= 'rocket', showmeans=True)\n",
    "plt.title('Purchase Amount Distribution by Season')\n",
    "plt.tight_layout()\n",
    "plt.show()"
   ]
  },
  {
   "cell_type": "code",
   "execution_count": null,
   "id": "ace726e2-3409-4db0-97fb-8aa8c8771b4a",
   "metadata": {},
   "outputs": [],
   "source": []
  },
  {
   "cell_type": "code",
   "execution_count": 50,
   "id": "4f50275e-c934-4664-8af1-314590ce192f",
   "metadata": {},
   "outputs": [
    {
     "data": {
      "image/png": "[encoded data removed]",
      "text/plain": [
       "<Figure size 1000x600 with 2 Axes>"
      ]
     },
     "metadata": {},
     "output_type": "display_data"
    }
   ],
   "source": [
    "numeric_df = df.select_dtypes(include= np.number)\n",
    "\n",
    "plt.figure(figsize=(10, 6))\n",
    "sns.heatmap(numeric_df.corr(), annot=True, cmap='coolwarm')\n",
    "plt.title('Correlation Heatmap of Numerical Features')\n",
    "plt.tight_layout()\n",
    "plt.show()\n"
   ]
  },
  {
   "cell_type": "markdown",
   "id": "ebc9e217-ff70-4f5b-a871-69a4c7084d71",
   "metadata": {},
   "source": [
    "### Outliers Detection"
   ]
  },
  {
   "cell_type": "code",
   "execution_count": 48,
   "id": "a27828d3-c990-4c16-82bb-c31eb63e085e",
   "metadata": {},
   "outputs": [
    {
     "data": {
      "image/png": "[encoded data removed]",
      "text/plain": [
       "<Figure size 800x500 with 1 Axes>"
      ]
     },
     "metadata": {},
     "output_type": "display_data"
    }
   ],
   "source": [
    "plt.figure(figsize=(8,5))\n",
    "sns.boxplot(x=df['Purchase Amount (USD)'])\n",
    "plt.title('Boxplot: Outliers in Purchase Amount')\n",
    "plt.show()\n"
   ]
  },
  {
   "cell_type": "code",
   "execution_count": 58,
   "id": "efc60889-61dd-4d05-ac9f-f4f1519caaa4",
   "metadata": {},
   "outputs": [
    {
     "name": "stdout",
     "output_type": "stream",
     "text": [
      "Number of outliers: 0\n"
     ]
    },
    {
     "data": {
      "text/html": [
       "<div>\n",
       "<style scoped>\n",
       "    .dataframe tbody tr th:only-of-type {\n",
       "        vertical-align: middle;\n",
       "    }\n",
       "\n",
       "    .dataframe tbody tr th {\n",
       "        vertical-align: top;\n",
       "    }\n",
       "\n",
       "    .dataframe thead th {\n",
       "        text-align: right;\n",
       "    }\n",
       "</style>\n",
       "<table border=\"1\" class=\"dataframe\">\n",
       "  <thead>\n",
       "    <tr style=\"text-align: right;\">\n",
       "      <th></th>\n",
       "      <th>Customer ID</th>\n",
       "      <th>Age</th>\n",
       "      <th>Gender</th>\n",
       "      <th>Item Purchased</th>\n",
       "      <th>Category</th>\n",
       "      <th>Purchase Amount (USD)</th>\n",
       "      <th>Location</th>\n",
       "      <th>Size</th>\n",
       "      <th>Color</th>\n",
       "      <th>Season</th>\n",
       "      <th>Review Rating</th>\n",
       "      <th>Subscription Status</th>\n",
       "      <th>Shipping Type</th>\n",
       "      <th>Discount Applied</th>\n",
       "      <th>Promo Code Used</th>\n",
       "      <th>Previous Purchases</th>\n",
       "      <th>Payment Method</th>\n",
       "      <th>Frequency of Purchases</th>\n",
       "      <th>Log_Purchase</th>\n",
       "    </tr>\n",
       "  </thead>\n",
       "  <tbody>\n",
       "  </tbody>\n",
       "</table>\n",
       "</div>"
      ],
      "text/plain": [
       "Empty DataFrame\n",
       "Columns: [Customer ID, Age, Gender, Item Purchased, Category, Purchase Amount (USD), Location, Size, Color, Season, Review Rating, Subscription Status, Shipping Type, Discount Applied, Promo Code Used, Previous Purchases, Payment Method, Frequency of Purchases, Log_Purchase]\n",
       "Index: []"
      ]
     },
     "execution_count": 58,
     "metadata": {},
     "output_type": "execute_result"
    }
   ],
   "source": [
    "Q1 = df['Purchase Amount (USD)'].quantile(0.25)\n",
    "Q3 = df['Purchase Amount (USD)'].quantile(0.75)\n",
    "IQR = Q3 - Q1\n",
    "\n",
    "outliers = df[(df['Purchase Amount (USD)'] < (Q1 - 1.5 * IQR)) | \n",
    "              (df['Purchase Amount (USD)'] > (Q3 + 1.5 * IQR))]\n",
    "\n",
    "print(f\"Number of outliers: {len(outliers)}\")\n",
    "outliers.head()\n"
   ]
  },
  {
   "cell_type": "code",
   "execution_count": 60,
   "id": "f4ac96ae-1768-423d-9ea9-f421f785e378",
   "metadata": {},
   "outputs": [
    {
     "data": {
      "text/plain": [
       "<Axes: ylabel='Age'>"
      ]
     },
     "execution_count": 60,
     "metadata": {},
     "output_type": "execute_result"
    },
    {
     "data": {
      "image/png": "[encoded data removed]",
      "text/plain": [
       "<Figure size 640x480 with 1 Axes>"
      ]
     },
     "metadata": {},
     "output_type": "display_data"
    }
   ],
   "source": [
    "sns.boxplot(df['Age'])\n"
   ]
  },
  {
   "cell_type": "code",
   "execution_count": 62,
   "id": "2c8e7d5a-caef-47da-a0cc-f5453fa325bd",
   "metadata": {},
   "outputs": [
    {
     "data": {
      "text/plain": [
       "count    3900.000000\n",
       "mean       44.068462\n",
       "std        15.207589\n",
       "min        18.000000\n",
       "25%        31.000000\n",
       "50%        44.000000\n",
       "75%        57.000000\n",
       "max        70.000000\n",
       "Name: Age, dtype: float64"
      ]
     },
     "execution_count": 62,
     "metadata": {},
     "output_type": "execute_result"
    }
   ],
   "source": [
    "df['Age'].describe()\n"
   ]
  },
  {
   "cell_type": "code",
   "execution_count": null,
   "id": "ad711bf5-5747-4b2e-a5a1-955a5e152e85",
   "metadata": {},
   "outputs": [],
   "source": []
  },
  {
   "cell_type": "code",
   "execution_count": null,
   "id": "c9c7d1b0-4464-430b-a50b-f44cd329f93a",
   "metadata": {},
   "outputs": [],
   "source": [
    "df.head(2)"
   ]
  },
  {
   "cell_type": "code",
   "execution_count": null,
   "id": "44aca154-ff0c-45c7-9606-5d8ed4c097f5",
   "metadata": {},
   "outputs": [],
   "source": []
  },
  {
   "cell_type": "code",
   "execution_count": null,
   "id": "79e41edc-f0ec-4221-828b-cca0f9a4f8cb",
   "metadata": {},
   "outputs": [],
   "source": [
    "### eg for outliers"
   ]
  },
  {
   "cell_type": "code",
   "execution_count": 64,
   "id": "43c17374-5072-4f0a-a770-93d0c300cf78",
   "metadata": {},
   "outputs": [
    {
     "data": {
      "image/png": "[encoded data removed]",
      "text/plain": [
       "<Figure size 640x480 with 1 Axes>"
      ]
     },
     "metadata": {},
     "output_type": "display_data"
    }
   ],
   "source": [
    "import pandas as pd\n",
    "import seaborn as sns\n",
    "import matplotlib.pyplot as plt\n",
    "import numpy as np\n",
    "\n",
    "# Create fake data\n",
    "np.random.seed(42)\n",
    "normal_ages = np.random.normal(loc=45, scale=5, size=100)  # Normal values around 45\n",
    "outliers = [10, 95, 100]  # Extreme values (outliers)\n",
    "age_data = np.concatenate([normal_ages, outliers])\n",
    "\n",
    "# Create DataFrame\n",
    "df_outliers = pd.DataFrame({'Age': age_data})\n",
    "\n",
    "# Boxplot\n",
    "sns.boxplot(y='Age', data=df_outliers, color='lightblue')\n",
    "plt.title(\"Boxplot Showing Outliers in Age\")\n",
    "plt.show()\n"
   ]
  },
  {
   "cell_type": "code",
   "execution_count": null,
   "id": "9bed367b-06e0-492c-801a-f1f4a7f0b6ac",
   "metadata": {},
   "outputs": [],
   "source": []
  },
  {
   "cell_type": "code",
   "execution_count": 42,
   "id": "5a85f21f-248c-4b92-9aa1-e29234343b87",
   "metadata": {},
   "outputs": [
    {
     "data": {
      "image/png": "[encoded data removed]",
      "text/plain": [
       "<Figure size 640x480 with 1 Axes>"
      ]
     },
     "metadata": {},
     "output_type": "display_data"
    }
   ],
   "source": [
    "import seaborn as sns\n",
    "import matplotlib.pyplot as plt\n",
    "\n",
    "sns.histplot(df['Purchase Amount (USD)'], kde=True)\n",
    "plt.title(\"Histogram of Purchase Amount\")\n",
    "plt.show()\n"
   ]
  },
  {
   "cell_type": "code",
   "execution_count": null,
   "id": "9369adf5-13c1-4f45-ab24-cdad2f126b46",
   "metadata": {},
   "outputs": [],
   "source": []
  },
  {
   "cell_type": "code",
   "execution_count": 97,
   "id": "92bed541-33c6-471b-81f1-37c2c49da500",
   "metadata": {},
   "outputs": [
    {
     "name": "stdout",
     "output_type": "stream",
     "text": [
      "Shapiro-Wilk p-value: 1.815579163868232e-34\n",
      "Likely not normal\n"
     ]
    }
   ],
   "source": [
    "from scipy.stats import shapiro\n",
    "\n",
    "stat, p = shapiro(df['Purchase Amount (USD)'])\n",
    "print(\"Shapiro-Wilk p-value:\", p)\n",
    "\n",
    "if p > 0.05:\n",
    "    print(\"Likely normal\")\n",
    "else:\n",
    "    print(\"Likely not normal\")\n"
   ]
  },
  {
   "cell_type": "code",
   "execution_count": 70,
   "id": "eb290e65-c8b8-430b-8c0e-2dbed2d6c33d",
   "metadata": {},
   "outputs": [
    {
     "name": "stdout",
     "output_type": "stream",
     "text": [
      "Shpiro-Wilk p-value: 4.393862623578557e-33\n",
      "Likely not normal\n"
     ]
    }
   ],
   "source": [
    "from scipy.stats import shapiro\n",
    "\n",
    "stat, p = shapiro(df['Age'])\n",
    "print(\"Shpiro-Wilk p-value:\", p)\n",
    "\n",
    "if p > 0.05:\n",
    "    print(\"Likely normal\")\n",
    "else:\n",
    "    print(\"Likely not normal\")"
   ]
  },
  {
   "cell_type": "code",
   "execution_count": 74,
   "id": "f46afccc-a08f-458b-b735-540d212adace",
   "metadata": {},
   "outputs": [
    {
     "name": "stdout",
     "output_type": "stream",
     "text": [
      "Shapiro-Wilk p-value: 6.499243704155826e-33\n",
      "likely not normal\n"
     ]
    }
   ],
   "source": [
    "stat, p = shapiro(df['Review Rating'])\n",
    "print(\"Shapiro-Wilk p-value:\", p)\n",
    "\n",
    "if p > 0.05:\n",
    "    print(\"Likely normal\")\n",
    "else:\n",
    "    print(\"likely not normal\")"
   ]
  },
  {
   "cell_type": "code",
   "execution_count": 86,
   "id": "693faafb-c613-46f7-98a8-94e98044ea28",
   "metadata": {},
   "outputs": [
    {
     "name": "stdout",
     "output_type": "stream",
     "text": [
      "Shapiro-Wilk p-value: 2.344693304573732e-33\n",
      "Likely not normal\n"
     ]
    }
   ],
   "source": [
    "stat, p= shapiro(df['Previous Purchases'])\n",
    "print(\"Shapiro-Wilk p-value:\", p)\n",
    "\n",
    "if p> 0.05:\n",
    "    print(\"Likely normal\")\n",
    "else:\n",
    "    print(\"Likely not normal\")"
   ]
  },
  {
   "cell_type": "code",
   "execution_count": 88,
   "id": "1b87158a-97e7-447a-aac8-4784e74f4e18",
   "metadata": {},
   "outputs": [
    {
     "name": "stdout",
     "output_type": "stream",
     "text": [
      "Shapiro-Wilk p-value: 1.0505528423999904e-38\n",
      "Likely not normal\n"
     ]
    }
   ],
   "source": [
    "stat, p= shapiro(df['Log_Purchase'])\n",
    "print(\"Shapiro-Wilk p-value:\", p)\n",
    "\n",
    "if p> 0.05:\n",
    "    print(\"Likely normal\")\n",
    "else:\n",
    "    print(\"Likely not normal\")"
   ]
  },
  {
   "cell_type": "code",
   "execution_count": 36,
   "id": "50c12960-a679-4b54-a2e3-ae37bf18eaa6",
   "metadata": {},
   "outputs": [
    {
     "name": "stdout",
     "output_type": "stream",
     "text": [
      "Skewness: 0.012696871813012472\n"
     ]
    }
   ],
   "source": [
    "from scipy.stats import skew\n",
    "\n",
    "skewness = skew(df['Purchase Amount (USD)'])\n",
    "print(\"Skewness:\", skewness)\n"
   ]
  },
  {
   "cell_type": "code",
   "execution_count": 92,
   "id": "1fe90427-d129-4ae7-af67-592b9cc7ee90",
   "metadata": {},
   "outputs": [
    {
     "data": {
      "text/plain": [
       "59.76435897435898"
      ]
     },
     "execution_count": 92,
     "metadata": {},
     "output_type": "execute_result"
    }
   ],
   "source": [
    "df['Purchase Amount (USD)'].mean()\n"
   ]
  },
  {
   "cell_type": "code",
   "execution_count": 90,
   "id": "3242ba59-1135-4ce6-a62e-cfeeee859f1b",
   "metadata": {},
   "outputs": [
    {
     "data": {
      "text/plain": [
       "60.0"
      ]
     },
     "execution_count": 90,
     "metadata": {},
     "output_type": "execute_result"
    }
   ],
   "source": [
    "df['Purchase Amount (USD)'].median()\n"
   ]
  },
  {
   "cell_type": "code",
   "execution_count": null,
   "id": "13ec427f-06d3-4351-9be1-149b391e984d",
   "metadata": {},
   "outputs": [],
   "source": []
  },
  {
   "cell_type": "markdown",
   "id": "9d9097bb-92de-4f49-832c-c923afacd6e8",
   "metadata": {},
   "source": [
    "## Question: Is there a significant difference in Purchase Amount (USD) between customers with fewer vs. more previous purchases?"
   ]
  },
  {
   "cell_type": "code",
   "execution_count": null,
   "id": "94d3fb96-28ba-40c2-8825-adf22c9d3991",
   "metadata": {},
   "outputs": [],
   "source": []
  },
  {
   "cell_type": "code",
   "execution_count": null,
   "id": "ddb52663-d278-4022-8382-f397644c1bde",
   "metadata": {},
   "outputs": [],
   "source": []
  },
  {
   "cell_type": "code",
   "execution_count": 107,
   "id": "9921cabd-f76a-4b28-b15d-640cb1e2126b",
   "metadata": {},
   "outputs": [
    {
     "name": "stdout",
     "output_type": "stream",
     "text": [
      "Mann-Whitney U test p-value: 0.6470010369909094\n",
      "No significant difference in purchase amounts.\n"
     ]
    }
   ],
   "source": [
    "from scipy.stats import mannwhitneyu\n",
    "\n",
    "pp_median= df['Previous Purchases'].median()\n",
    "# Create two groups based on Previous Purchases\n",
    "\n",
    "\n",
    "group1 = df[df['Previous Purchases'] <= pp_median]['Purchase Amount (USD)']\n",
    "group2 = df[df['Previous Purchases'] > pp_median]['Purchase Amount (USD)']\n",
    "\n",
    "# Mann-Whitney U Test\n",
    "stat, p = mannwhitneyu(group1, group2)\n",
    "print(\"Mann-Whitney U test p-value:\", p)\n",
    "\n",
    "if p < 0.05:\n",
    "    print(\"Significant difference in purchase amounts.\")\n",
    "else:\n",
    "    print(\"No significant difference in purchase amounts.\")\n"
   ]
  },
  {
   "cell_type": "code",
   "execution_count": null,
   "id": "d9646be7-ef94-46f7-8f60-2d833279eea8",
   "metadata": {},
   "outputs": [],
   "source": []
  },
  {
   "cell_type": "code",
   "execution_count": 110,
   "id": "3d91a6d1-1589-4866-94c9-22056a1279f2",
   "metadata": {},
   "outputs": [
    {
     "data": {
      "image/png": "[encoded data removed]",
      "text/plain": [
       "<Figure size 640x480 with 1 Axes>"
      ]
     },
     "metadata": {},
     "output_type": "display_data"
    }
   ],
   "source": [
    "sns.boxplot(data=[group1, group2])\n",
    "plt.xticks([0, 1], ['Low Previous', 'High Previous'])\n",
    "plt.title(\"Purchase Amount by Previous Purchase Groups\")\n",
    "plt.show()\n"
   ]
  },
  {
   "cell_type": "code",
   "execution_count": 112,
   "id": "2adbf381-23eb-4ed8-a45b-5b5814f20409",
   "metadata": {},
   "outputs": [
    {
     "name": "stdout",
     "output_type": "stream",
     "text": [
      "Spearman Correlation: 0.008314955953859364\n",
      "p-value: 0.6036830945527644\n",
      "❌ No significant correlation.\n"
     ]
    }
   ],
   "source": [
    "from scipy.stats import spearmanr\n",
    "\n",
    "corr, p_value = spearmanr(df['Previous Purchases'], df['Purchase Amount (USD)'])\n",
    "print(\"Spearman Correlation:\", corr)\n",
    "print(\"p-value:\", p_value)\n",
    "\n",
    "if p_value < 0.05:\n",
    "    print(\"✅ Significant correlation.\")\n",
    "else:\n",
    "    print(\"❌ No significant correlation.\")\n"
   ]
  },
  {
   "cell_type": "code",
   "execution_count": null,
   "id": "462a2f2d-4355-4eec-83b9-ecf0ef0c054b",
   "metadata": {},
   "outputs": [],
   "source": []
  },
  {
   "cell_type": "code",
   "execution_count": 72,
   "id": "00e51a83-6d57-4342-b472-7bed4a354ef5",
   "metadata": {},
   "outputs": [
    {
     "data": {
      "text/html": [
       "<div>\n",
       "<style scoped>\n",
       "    .dataframe tbody tr th:only-of-type {\n",
       "        vertical-align: middle;\n",
       "    }\n",
       "\n",
       "    .dataframe tbody tr th {\n",
       "        vertical-align: top;\n",
       "    }\n",
       "\n",
       "    .dataframe thead th {\n",
       "        text-align: right;\n",
       "    }\n",
       "</style>\n",
       "<table border=\"1\" class=\"dataframe\">\n",
       "  <thead>\n",
       "    <tr style=\"text-align: right;\">\n",
       "      <th></th>\n",
       "      <th>Customer ID</th>\n",
       "      <th>Age</th>\n",
       "      <th>Purchase Amount (USD)</th>\n",
       "      <th>Review Rating</th>\n",
       "      <th>Previous Purchases</th>\n",
       "      <th>Log_Purchase</th>\n",
       "    </tr>\n",
       "  </thead>\n",
       "  <tbody>\n",
       "    <tr>\n",
       "      <th>count</th>\n",
       "      <td>3900.000000</td>\n",
       "      <td>3900.000000</td>\n",
       "      <td>3900.000000</td>\n",
       "      <td>3900.000000</td>\n",
       "      <td>3900.000000</td>\n",
       "      <td>3900.000000</td>\n",
       "    </tr>\n",
       "    <tr>\n",
       "      <th>mean</th>\n",
       "      <td>1950.500000</td>\n",
       "      <td>44.068462</td>\n",
       "      <td>59.764359</td>\n",
       "      <td>3.749949</td>\n",
       "      <td>25.351538</td>\n",
       "      <td>3.998179</td>\n",
       "    </tr>\n",
       "    <tr>\n",
       "      <th>std</th>\n",
       "      <td>1125.977353</td>\n",
       "      <td>15.207589</td>\n",
       "      <td>23.685392</td>\n",
       "      <td>0.716223</td>\n",
       "      <td>14.447125</td>\n",
       "      <td>0.450113</td>\n",
       "    </tr>\n",
       "    <tr>\n",
       "      <th>min</th>\n",
       "      <td>1.000000</td>\n",
       "      <td>18.000000</td>\n",
       "      <td>20.000000</td>\n",
       "      <td>2.500000</td>\n",
       "      <td>1.000000</td>\n",
       "      <td>2.995732</td>\n",
       "    </tr>\n",
       "    <tr>\n",
       "      <th>25%</th>\n",
       "      <td>975.750000</td>\n",
       "      <td>31.000000</td>\n",
       "      <td>39.000000</td>\n",
       "      <td>3.100000</td>\n",
       "      <td>13.000000</td>\n",
       "      <td>3.663562</td>\n",
       "    </tr>\n",
       "    <tr>\n",
       "      <th>50%</th>\n",
       "      <td>1950.500000</td>\n",
       "      <td>44.000000</td>\n",
       "      <td>60.000000</td>\n",
       "      <td>3.700000</td>\n",
       "      <td>25.000000</td>\n",
       "      <td>4.094345</td>\n",
       "    </tr>\n",
       "    <tr>\n",
       "      <th>75%</th>\n",
       "      <td>2925.250000</td>\n",
       "      <td>57.000000</td>\n",
       "      <td>81.000000</td>\n",
       "      <td>4.400000</td>\n",
       "      <td>38.000000</td>\n",
       "      <td>4.394449</td>\n",
       "    </tr>\n",
       "    <tr>\n",
       "      <th>max</th>\n",
       "      <td>3900.000000</td>\n",
       "      <td>70.000000</td>\n",
       "      <td>100.000000</td>\n",
       "      <td>5.000000</td>\n",
       "      <td>50.000000</td>\n",
       "      <td>4.605170</td>\n",
       "    </tr>\n",
       "  </tbody>\n",
       "</table>\n",
       "</div>"
      ],
      "text/plain": [
       "       Customer ID          Age  Purchase Amount (USD)  Review Rating  \\\n",
       "count  3900.000000  3900.000000            3900.000000    3900.000000   \n",
       "mean   1950.500000    44.068462              59.764359       3.749949   \n",
       "std    1125.977353    15.207589              23.685392       0.716223   \n",
       "min       1.000000    18.000000              20.000000       2.500000   \n",
       "25%     975.750000    31.000000              39.000000       3.100000   \n",
       "50%    1950.500000    44.000000              60.000000       3.700000   \n",
       "75%    2925.250000    57.000000              81.000000       4.400000   \n",
       "max    3900.000000    70.000000             100.000000       5.000000   \n",
       "\n",
       "       Previous Purchases  Log_Purchase  \n",
       "count         3900.000000   3900.000000  \n",
       "mean            25.351538      3.998179  \n",
       "std             14.447125      0.450113  \n",
       "min              1.000000      2.995732  \n",
       "25%             13.000000      3.663562  \n",
       "50%             25.000000      4.094345  \n",
       "75%             38.000000      4.394449  \n",
       "max             50.000000      4.605170  "
      ]
     },
     "execution_count": 72,
     "metadata": {},
     "output_type": "execute_result"
    }
   ],
   "source": [
    "df.describe()"
   ]
  },
  {
   "cell_type": "code",
   "execution_count": 101,
   "id": "a1827b9a-8af6-43cb-9051-e13e9e91f19e",
   "metadata": {},
   "outputs": [
    {
     "data": {
      "text/plain": [
       "Previous Purchases\n",
       "31    97\n",
       "21    96\n",
       "14    92\n",
       "24    91\n",
       "3     91\n",
       "4     91\n",
       "48    90\n",
       "47    90\n",
       "5     87\n",
       "6     87\n",
       "18    84\n",
       "20    83\n",
       "45    83\n",
       "42    83\n",
       "1     83\n",
       "30    82\n",
       "11    82\n",
       "33    82\n",
       "40    82\n",
       "39    81\n",
       "32    81\n",
       "28    80\n",
       "12    79\n",
       "34    79\n",
       "25    79\n",
       "19    78\n",
       "27    78\n",
       "37    78\n",
       "46    78\n",
       "26    77\n",
       "50    77\n",
       "10    76\n",
       "15    73\n",
       "23    73\n",
       "2     72\n",
       "44    72\n",
       "36    71\n",
       "41    70\n",
       "16    70\n",
       "38    70\n",
       "29    69\n",
       "13    69\n",
       "8     67\n",
       "17    67\n",
       "7     65\n",
       "22    65\n",
       "9     65\n",
       "43    64\n",
       "35    63\n",
       "49    58\n",
       "Name: count, dtype: int64"
      ]
     },
     "execution_count": 101,
     "metadata": {},
     "output_type": "execute_result"
    }
   ],
   "source": [
    "df['Previous Purchases'].value_counts()"
   ]
  },
  {
   "cell_type": "code",
   "execution_count": null,
   "id": "e868edc1-054a-4bf2-8953-d0de45cc62c3",
   "metadata": {},
   "outputs": [],
   "source": []
  },
  {
   "cell_type": "code",
   "execution_count": 103,
   "id": "e2db3377-f5cb-4129-b52a-7bbcbecf8b23",
   "metadata": {},
   "outputs": [
    {
     "data": {
      "text/html": [
       "<div>\n",
       "<style scoped>\n",
       "    .dataframe tbody tr th:only-of-type {\n",
       "        vertical-align: middle;\n",
       "    }\n",
       "\n",
       "    .dataframe tbody tr th {\n",
       "        vertical-align: top;\n",
       "    }\n",
       "\n",
       "    .dataframe thead th {\n",
       "        text-align: right;\n",
       "    }\n",
       "</style>\n",
       "<table border=\"1\" class=\"dataframe\">\n",
       "  <thead>\n",
       "    <tr style=\"text-align: right;\">\n",
       "      <th></th>\n",
       "      <th>Previous Purchases</th>\n",
       "      <th>Purchase Amount (USD)</th>\n",
       "    </tr>\n",
       "  </thead>\n",
       "  <tbody>\n",
       "    <tr>\n",
       "      <th>Previous Purchases</th>\n",
       "      <td>1.000000</td>\n",
       "      <td>0.008063</td>\n",
       "    </tr>\n",
       "    <tr>\n",
       "      <th>Purchase Amount (USD)</th>\n",
       "      <td>0.008063</td>\n",
       "      <td>1.000000</td>\n",
       "    </tr>\n",
       "  </tbody>\n",
       "</table>\n",
       "</div>"
      ],
      "text/plain": [
       "                       Previous Purchases  Purchase Amount (USD)\n",
       "Previous Purchases               1.000000               0.008063\n",
       "Purchase Amount (USD)            0.008063               1.000000"
      ]
     },
     "execution_count": 103,
     "metadata": {},
     "output_type": "execute_result"
    }
   ],
   "source": [
    "df[['Previous Purchases', 'Purchase Amount (USD)']].corr()\n"
   ]
  },
  {
   "cell_type": "markdown",
   "id": "54d5f5c7-6a6e-47f4-aff0-25ef68b73394",
   "metadata": {},
   "source": [
    "## ------------------------------------------------------"
   ]
  },
  {
   "cell_type": "code",
   "execution_count": 44,
   "id": "898dadeb-f71d-4dbc-b05b-1f25b0be0f5d",
   "metadata": {},
   "outputs": [
    {
     "data": {
      "image/png": "[encoded data removed]",
      "text/plain": [
       "<Figure size 640x480 with 1 Axes>"
      ]
     },
     "metadata": {},
     "output_type": "display_data"
    }
   ],
   "source": [
    "sns.boxplot(y=df['Purchase Amount (USD)'])\n",
    "plt.title(\"Boxplot of Purchase Amount\")\n",
    "plt.show()\n"
   ]
  },
  {
   "cell_type": "code",
   "execution_count": null,
   "id": "fd1661e1-f220-435f-9afe-e1fcd4275c83",
   "metadata": {},
   "outputs": [],
   "source": []
  },
  {
   "cell_type": "code",
   "execution_count": null,
   "id": "75bee3fe-5aef-49d4-b3ed-df26ea71368e",
   "metadata": {},
   "outputs": [],
   "source": [
    "sns.histplot(df['Purchase Amount (USD)'], kde=True)\n",
    "plt.title(\"Histogram with KDE - Look for multiple peaks\")\n",
    "plt.show()\n"
   ]
  },
  {
   "cell_type": "code",
   "execution_count": null,
   "id": "27a2ae46-9b8e-4c2f-8c1f-550801fe9d03",
   "metadata": {},
   "outputs": [],
   "source": []
  },
  {
   "cell_type": "code",
   "execution_count": 46,
   "id": "20795fff-1bdf-4f2b-9224-845150ed1ef1",
   "metadata": {},
   "outputs": [
    {
     "data": {
      "image/png": "[encoded data removed]",
      "text/plain": [
       "<Figure size 640x480 with 1 Axes>"
      ]
     },
     "metadata": {},
     "output_type": "display_data"
    }
   ],
   "source": [
    "import numpy as np\n",
    "import seaborn as sns\n",
    "import matplotlib.pyplot as plt\n",
    "\n",
    "# Apply log transformation\n",
    "df['Log_Purchase'] = np.log(df['Purchase Amount (USD)'])\n",
    "\n",
    "# Plot histogram after transformation\n",
    "sns.histplot(df['Log_Purchase'], kde=True)\n",
    "plt.title(\"Log-Transformed Purchase Amount\")\n",
    "plt.show()\n"
   ]
  },
  {
   "cell_type": "code",
   "execution_count": null,
   "id": "97448c55-f7e5-445c-8a9f-7b8015673515",
   "metadata": {},
   "outputs": [],
   "source": [
    "df['Sqrt_Purchase'] = np.sqrt(df['Purchase Amount (USD)'])\n",
    "\n",
    "sns.histplot(df['Sqrt_Purchase'], kde=True)\n",
    "plt.title(\"Square Root-Transformed Purchase Amount\")\n",
    "plt.show()\n"
   ]
  },
  {
   "cell_type": "code",
   "execution_count": null,
   "id": "46a09353-dd90-4c5f-8a71-6227b5f1ec30",
   "metadata": {},
   "outputs": [],
   "source": [
    "from scipy.stats import shapiro\n",
    "\n",
    "stat, p = shapiro(df['Log_Purchase'])  # Or Sqrt_Purchase\n",
    "print(\"Shapiro-Wilk p-value:\", p)\n",
    "if p > 0.05:\n",
    "    print(\"✅ Likely normal after transformation\")\n",
    "else:\n",
    "    print(\"❌ Still not normal\")\n"
   ]
  },
  {
   "cell_type": "code",
   "execution_count": null,
   "id": "056cb67d-9b60-4d66-9790-9f85c0f401ef",
   "metadata": {},
   "outputs": [],
   "source": []
  },
  {
   "cell_type": "markdown",
   "id": "c8537fca-e922-4484-8479-b48f5252c42f",
   "metadata": {},
   "source": [
    "## ------------------------------------------"
   ]
  },
  {
   "cell_type": "markdown",
   "id": "4f2d5efd-4dc8-4feb-8540-da6b2028ccbd",
   "metadata": {},
   "source": [
    "# Customer Segmentation"
   ]
  },
  {
   "cell_type": "code",
   "execution_count": 131,
   "id": "5761e2c1-2d22-4985-b210-de5116a4fea5",
   "metadata": {},
   "outputs": [],
   "source": [
    "df['age_group'] = pd.cut(df['Age'], bins=[0, 25, 35, 50, 100], labels=['<25', '25-35', '35-50', '50+'])"
   ]
  },
  {
   "cell_type": "code",
   "execution_count": null,
   "id": "65526e90-ce3f-49f8-b725-7b0d42ce50ea",
   "metadata": {},
   "outputs": [],
   "source": []
  },
  {
   "cell_type": "markdown",
   "id": "19b6af3d-545f-4c37-8487-c81219017cd4",
   "metadata": {},
   "source": [
    "## Average Spend by Age Group and Gender"
   ]
  },
  {
   "cell_type": "code",
   "execution_count": 143,
   "id": "948d91e4-9524-432c-b074-dd9cad148350",
   "metadata": {},
   "outputs": [
    {
     "name": "stderr",
     "output_type": "stream",
     "text": [
      "C:\\Users\\adars\\AppData\\Local\\Temp\\ipykernel_9224\\1849384032.py:1: FutureWarning: The default of observed=False is deprecated and will be changed to True in a future version of pandas. Pass observed=False to retain current behavior or observed=True to adopt the future default and silence this warning.\n",
      "  segment_summary = df.groupby(['age_group', 'Gender'])['Purchase Amount (USD)'].median().reset_index()\n"
     ]
    },
    {
     "data": {
      "image/png": "[encoded data removed]",
      "text/plain": [
       "<Figure size 1000x600 with 1 Axes>"
      ]
     },
     "metadata": {},
     "output_type": "display_data"
    }
   ],
   "source": [
    "segment_summary = df.groupby(['age_group', 'Gender'])['Purchase Amount (USD)'].median().reset_index()\n",
    "\n",
    "plt.figure(figsize=(10,6))\n",
    "sns.barplot(x='age_group', y='Purchase Amount (USD)', hue= 'Gender',data=segment_summary)\n",
    "plt.title(\"Avg Spend by Age Group and Gender\")\n",
    "plt.tight_layout()\n",
    "plt.show()"
   ]
  },
  {
   "cell_type": "markdown",
   "id": "6b608a0b-8f7a-4a21-9de2-52174fb004d5",
   "metadata": {},
   "source": [
    "## Subscription Status vs Spend"
   ]
  },
  {
   "cell_type": "code",
   "execution_count": 170,
   "id": "b99a4d59-38f0-4a6b-a651-188f44c90c26",
   "metadata": {},
   "outputs": [
    {
     "data": {
      "image/png": "[encoded data removed]",
      "text/plain": [
       "<Figure size 1000x600 with 1 Axes>"
      ]
     },
     "metadata": {},
     "output_type": "display_data"
    }
   ],
   "source": [
    "sub_summary = df.groupby('Subscription Status')['Purchase Amount (USD)'].median().reset_index()\n",
    "\n",
    "plt.figure(figsize=(10,6))\n",
    "sns.barplot(x='Subscription Status', y='Purchase Amount (USD)', data= sub_summary)\n",
    "plt.title('Avg Purchase Amount by Subscription Status')\n",
    "plt.tight_layout()\n",
    "plt.show()"
   ]
  },
  {
   "cell_type": "code",
   "execution_count": 178,
   "id": "1f517062-6526-404f-b180-823f60e187ea",
   "metadata": {},
   "outputs": [],
   "source": [
    "dis_summary = df.groupby('Discount Applied')['Purchase Amount (USD)'].median().reset_index()"
   ]
  },
  {
   "cell_type": "code",
   "execution_count": 188,
   "id": "d6570c92-11e1-4669-8701-91cd9049db69",
   "metadata": {},
   "outputs": [
    {
     "data": {
      "image/png": "[encoded data removed]",
      "text/plain": [
       "<Figure size 1000x600 with 1 Axes>"
      ]
     },
     "metadata": {},
     "output_type": "display_data"
    }
   ],
   "source": [
    "dis_summary = df.groupby('Discount Applied')['Purchase Amount (USD)'].median().reset_index()\n",
    "\n",
    "plt.figure(figsize=(10,6))\n",
    "sns.barplot(x='Discount Applied', y='Purchase Amount (USD)', data= dis_summary)\n",
    "plt.title('Avg Purchase Amount by Discount Applied')\n",
    "plt.xticks([0, 1], ['No Discount', 'Discount'])\n",
    "\n",
    "plt.tight_layout()\n",
    "plt.show()"
   ]
  },
  {
   "cell_type": "code",
   "execution_count": 195,
   "id": "7c26800a-fdad-4f51-a21c-d1144d35aef0",
   "metadata": {},
   "outputs": [
    {
     "data": {
      "text/plain": [
       "Discount Applied\n",
       "No     2223\n",
       "Yes    1677\n",
       "Name: Purchase Amount (USD), dtype: int64"
      ]
     },
     "execution_count": 195,
     "metadata": {},
     "output_type": "execute_result"
    }
   ],
   "source": [
    "\n",
    "df.groupby('Discount Applied')['Purchase Amount (USD)'].count()\n"
   ]
  },
  {
   "cell_type": "code",
   "execution_count": null,
   "id": "9dda9ec5-c8f6-4805-9e82-64bdf729a76f",
   "metadata": {},
   "outputs": [],
   "source": []
  },
  {
   "cell_type": "code",
   "execution_count": 21,
   "id": "1a249559-4337-4953-96fc-14ca5f60cf1c",
   "metadata": {},
   "outputs": [
    {
     "name": "stdout",
     "output_type": "stream",
     "text": [
      "category_rating\n"
     ]
    }
   ],
   "source": [
    "category_rating = df.groupby('Category')['Review Rating'].median().sort_values(ascending=False)\n",
    "print('category_rating')"
   ]
  },
  {
   "cell_type": "code",
   "execution_count": 23,
   "id": "30ff9bb2-fdcf-452b-afb1-7de38fc9dfe9",
   "metadata": {},
   "outputs": [
    {
     "data": {
      "text/plain": [
       "Category\n",
       "Accessories    3.8\n",
       "Footwear       3.8\n",
       "Outerwear      3.8\n",
       "Clothing       3.7\n",
       "Name: Review Rating, dtype: float64"
      ]
     },
     "execution_count": 23,
     "metadata": {},
     "output_type": "execute_result"
    }
   ],
   "source": [
    "category_rating"
   ]
  },
  {
   "cell_type": "code",
   "execution_count": 27,
   "id": "9f7151a6-ca37-491c-b944-5fff56ceb44b",
   "metadata": {},
   "outputs": [
    {
     "name": "stdout",
     "output_type": "stream",
     "text": [
      "Item Purchased\n",
      "Sandals       3.95\n",
      "Hat           3.90\n",
      "Boots         3.90\n",
      "Skirt         3.90\n",
      "Gloves        3.90\n",
      "Jewelry       3.80\n",
      "Sweater       3.80\n",
      "Sneakers      3.80\n",
      "T-shirt       3.80\n",
      "Handbag       3.80\n",
      "Coat          3.80\n",
      "Hoodie        3.70\n",
      "Jacket        3.70\n",
      "Belt          3.70\n",
      "Pants         3.70\n",
      "Shoes         3.70\n",
      "Shorts        3.70\n",
      "Dress         3.70\n",
      "Socks         3.70\n",
      "Blouse        3.70\n",
      "Backpack      3.70\n",
      "Jeans         3.65\n",
      "Scarf         3.60\n",
      "Sunglasses    3.60\n",
      "Shirt         3.50\n",
      "Name: Review Rating, dtype: float64\n"
     ]
    }
   ],
   "source": [
    "# Group by Item Purchased and calculate mean Review Rating\n",
    "item_rating = df.groupby('Item Purchased')['Review Rating'].median().sort_values(ascending=False)\n",
    "\n",
    "print(item_rating)\n"
   ]
  },
  {
   "cell_type": "code",
   "execution_count": 29,
   "id": "ec095262-f204-45f5-a5cc-5c2dfb47d3aa",
   "metadata": {},
   "outputs": [
    {
     "data": {
      "text/plain": [
       "Item Purchased\n",
       "Sandals     3.95\n",
       "Hat         3.90\n",
       "Boots       3.90\n",
       "Skirt       3.90\n",
       "Gloves      3.90\n",
       "Jewelry     3.80\n",
       "Sweater     3.80\n",
       "Sneakers    3.80\n",
       "T-shirt     3.80\n",
       "Handbag     3.80\n",
       "Name: Review Rating, dtype: float64"
      ]
     },
     "execution_count": 29,
     "metadata": {},
     "output_type": "execute_result"
    }
   ],
   "source": [
    "import seaborn as sns\n",
    "import matplotlib.pyplot as plt\n",
    "\n",
    "# Plot top 10 items\n",
    "top_items = item_rating_df.head(10)\n",
    "\n",
    "top_items"
   ]
  },
  {
   "cell_type": "code",
   "execution_count": null,
   "id": "7d466eb8-820e-47e5-9165-1e3a43353a1a",
   "metadata": {},
   "outputs": [],
   "source": []
  },
  {
   "cell_type": "code",
   "execution_count": 33,
   "id": "d3f2405a-7c81-4ef5-a328-e5e13eb77146",
   "metadata": {},
   "outputs": [],
   "source": [
    "import numpy as np\n",
    "\n",
    "df['Log_Purchase'] = np.log1p(df['Purchase Amount (USD)'])  # log1p safely handles 0 values\n"
   ]
  },
  {
   "cell_type": "code",
   "execution_count": 35,
   "id": "13f6ca65-a624-4b8a-9a4f-66eb83ba97f4",
   "metadata": {},
   "outputs": [
    {
     "data": {
      "image/png": "[encoded data removed]",
      "text/plain": [
       "<Figure size 1200x500 with 2 Axes>"
      ]
     },
     "metadata": {},
     "output_type": "display_data"
    }
   ],
   "source": [
    "import matplotlib.pyplot as plt\n",
    "\n",
    "plt.figure(figsize=(12, 5))\n",
    "\n",
    "plt.subplot(1, 2, 1)\n",
    "df['Purchase Amount (USD)'].hist(bins=30)\n",
    "plt.title(\"Original Purchase Amount\")\n",
    "\n",
    "plt.subplot(1, 2, 2)\n",
    "df['Log_Purchase'].hist(bins=30)\n",
    "plt.title(\"Log Transformed Purchase Amount\")\n",
    "\n",
    "plt.tight_layout()\n",
    "plt.show()\n"
   ]
  },
  {
   "cell_type": "code",
   "execution_count": 37,
   "id": "8ab3943e-ad42-46cc-a078-a4f8abaecbee",
   "metadata": {},
   "outputs": [
    {
     "name": "stdout",
     "output_type": "stream",
     "text": [
      "Shapiro-Wilk p-value: 1.570574747615912e-38\n",
      "Log_Purchase is not normally distributed.\n"
     ]
    }
   ],
   "source": [
    "from scipy.stats import shapiro\n",
    "\n",
    "stat, p = shapiro(df['Log_Purchase'])\n",
    "print(\"Shapiro-Wilk p-value:\", p)\n",
    "\n",
    "if p > 0.05:\n",
    "    print(\"Log_Purchase is normally distributed.\")\n",
    "else:\n",
    "    print(\"Log_Purchase is not normally distributed.\")\n"
   ]
  },
  {
   "cell_type": "code",
   "execution_count": null,
   "id": "2604d65e-64b6-4e5c-8a63-8d2953145d34",
   "metadata": {},
   "outputs": [],
   "source": []
  },
  {
   "cell_type": "code",
   "execution_count": 45,
   "id": "2990814d-ee9e-4e5c-90d9-8ab2a19be5d6",
   "metadata": {},
   "outputs": [
    {
     "name": "stdout",
     "output_type": "stream",
     "text": [
      "Age: p-value = 4.393862623578557e-33\n",
      "→ Age is NOT normally distributed.\n",
      "\n",
      "Purchase Amount (USD): p-value = 1.815579163868232e-34\n",
      "→ Purchase Amount (USD) is NOT normally distributed.\n",
      "\n",
      "Review Rating: p-value = 6.499243704155826e-33\n",
      "→ Review Rating is NOT normally distributed.\n",
      "\n",
      "Previous Purchases: p-value = 2.344693304573732e-33\n",
      "→ Previous Purchases is NOT normally distributed.\n",
      "\n",
      "Log_Purchase: p-value = 1.570574747615912e-38\n",
      "→ Log_Purchase is NOT normally distributed.\n",
      "\n"
     ]
    }
   ],
   "source": [
    "col_to_test = ['Age', 'Purchase Amount (USD)',\t'Review Rating',\t'Previous Purchases',\t'Log_Purchase' ]\n",
    "\n",
    "\n",
    "for col in col_to_test:\n",
    "    stat, p = shapiro(df[col])\n",
    "    print(f\"{col}: p-value = {p}\")\n",
    "    if p < 0.05:\n",
    "        print(f\"→ {col} is NOT normally distributed.\\n\")\n",
    "    else:\n",
    "        print(f\"→ {col} IS normally distributed.\\n\")"
   ]
  },
  {
   "cell_type": "code",
   "execution_count": 47,
   "id": "bd96fdac-2087-497f-80a3-c42867f87404",
   "metadata": {},
   "outputs": [
    {
     "name": "stdout",
     "output_type": "stream",
     "text": [
      "p-value: 0.3507899125856292\n"
     ]
    }
   ],
   "source": [
    "from scipy.stats import kruskal\n",
    "\n",
    "group1 = df[df['Review Rating'] == 5]['Purchase Amount (USD)']\n",
    "group2 = df[df['Review Rating'] == 4]['Purchase Amount (USD)']\n",
    "group3 = df[df['Review Rating'] == 3]['Purchase Amount (USD)']\n",
    "\n",
    "stat, p = kruskal(group1, group2, group3)\n",
    "print(\"p-value:\", p)\n"
   ]
  },
  {
   "cell_type": "code",
   "execution_count": null,
   "id": "310d4fdc-9dd3-4892-be34-028d0f0a54dd",
   "metadata": {},
   "outputs": [],
   "source": []
  },
  {
   "cell_type": "code",
   "execution_count": null,
   "id": "6e3d544c-995a-4f54-95ab-ed0c66f3927e",
   "metadata": {},
   "outputs": [],
   "source": []
  },
  {
   "cell_type": "code",
   "execution_count": null,
   "id": "11d7148d-045a-4169-96f3-be9a92a044de",
   "metadata": {},
   "outputs": [],
   "source": []
  },
  {
   "cell_type": "code",
   "execution_count": null,
   "id": "125764f4-e5b1-4539-8d6b-e092d0a68658",
   "metadata": {},
   "outputs": [],
   "source": []
  },
  {
   "cell_type": "code",
   "execution_count": null,
   "id": "73ec477b-90b5-47b4-ad2c-455f338302d6",
   "metadata": {},
   "outputs": [],
   "source": []
  },
  {
   "cell_type": "code",
   "execution_count": null,
   "id": "41815221-ec30-4d70-a1ce-f70f3448d71b",
   "metadata": {},
   "outputs": [],
   "source": []
  },
  {
   "cell_type": "code",
   "execution_count": null,
   "id": "57cb2b58-a9ed-464a-b567-75ad60622bac",
   "metadata": {},
   "outputs": [],
   "source": []
  },
  {
   "cell_type": "code",
   "execution_count": null,
   "id": "96e36df9-8fea-41e7-9102-1ce8c35b1473",
   "metadata": {},
   "outputs": [],
   "source": []
  },
  {
   "cell_type": "code",
   "execution_count": null,
   "id": "1225168a-679a-4f43-b2b1-a034ddeb8329",
   "metadata": {},
   "outputs": [],
   "source": []
  },
  {
   "cell_type": "code",
   "execution_count": null,
   "id": "a6e5b6d4-0b56-4c96-b15a-965c891efbd9",
   "metadata": {},
   "outputs": [],
   "source": []
  },
  {
   "cell_type": "code",
   "execution_count": null,
   "id": "20c35994-5238-44ad-aaf5-ce4de2b113b8",
   "metadata": {},
   "outputs": [],
   "source": []
  },
  {
   "cell_type": "code",
   "execution_count": null,
   "id": "735168c4-7894-4e12-9a89-404faab3d030",
   "metadata": {},
   "outputs": [],
   "source": []
  },
  {
   "cell_type": "code",
   "execution_count": null,
   "id": "434fd473-ce5b-438e-98b7-3a45b3d9d106",
   "metadata": {},
   "outputs": [],
   "source": []
  },
  {
   "cell_type": "code",
   "execution_count": null,
   "id": "f904038d-e0ff-4acc-9750-f8381dc50f79",
   "metadata": {},
   "outputs": [],
   "source": []
  },
  {
   "cell_type": "code",
   "execution_count": null,
   "id": "0784f5ea-ce8d-48a4-adf9-33348c52c68c",
   "metadata": {},
   "outputs": [],
   "source": []
  }
 ],
 "metadata": {
  "kernelspec": {
   "display_name": "Python [conda env:base] *",
   "language": "python",
   "name": "conda-base-py"
  },
  "language_info": {
   "codemirror_mode": {
    "name": "ipython",
    "version": 3
   },
   "file_extension": ".py",
   "mimetype": "text/x-python",
   "name": "python",
   "nbconvert_exporter": "python",
   "pygments_lexer": "ipython3",
   "version": "3.12.7"
  }
 },
 "nbformat": 4,
 "nbformat_minor": 5
}
